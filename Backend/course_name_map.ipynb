{
 "cells": [
  {
   "cell_type": "code",
   "execution_count": 1,
   "metadata": {},
   "outputs": [],
   "source": [
    "import requests\n",
    "from bs4 import BeautifulSoup\n",
    "import json"
   ]
  },
  {
   "cell_type": "code",
   "execution_count": 2,
   "metadata": {},
   "outputs": [],
   "source": [
    "# Get all the class links\n",
    "url = \"https://catalog.upenn.edu/courses/\"\n",
    "\n",
    "response = requests.get(url)\n",
    "header = \"https://catalog.upenn.edu\"\n",
    "course_links = []\n",
    "\n",
    "if response.status_code == 200:\n",
    "    soup = BeautifulSoup(response.content, 'html.parser')\n",
    "    course_div = soup.find_all('div', class_='az_sitemap')\n",
    "\n",
    "    course_uls = course_div[0].find_all('ul', class_=False)\n",
    "\n",
    "    # Get and store all the course links\n",
    "    for course_ul in course_uls:\n",
    "        course_lis = course_ul.find_all('li', class_=False)\n",
    "        for course_li in course_lis:\n",
    "            a_elements = course_li.find_all('a')\n",
    "            href_value = a_elements[0].get('href')\n",
    "            course_links.append(header + href_value)\n",
    "else:\n",
    "    print(\"Failed to retrieve the page. Status code:\", response.status_code)"
   ]
  },
  {
   "cell_type": "code",
   "execution_count": 13,
   "metadata": {},
   "outputs": [],
   "source": [
    "def get_course_names(url):\n",
    "    response = requests.get(url)\n",
    "    course_numbers, course_names = [], []\n",
    "\n",
    "    if response.status_code == 200:\n",
    "        soup = BeautifulSoup(response.text, 'html.parser')\n",
    "        course_listings = soup.find_all('div', class_='courseblock')\n",
    "\n",
    "        for course in course_listings:\n",
    "            p_tags = course.find_all('p')\n",
    "            \n",
    "            course_info = p_tags[0].text\n",
    "            course_number = course_info.split('  ')[0].replace('\\xa0', ' ')\n",
    "            course_name = course_info.split('  ')[1]\n",
    "            course_numbers.append(course_number)\n",
    "            course_names.append(course_name)\n",
    "\n",
    "    else:\n",
    "        print(\"Failed to retrieve the page. Status code:\", response.status_code)\n",
    "    return course_numbers, course_names\n"
   ]
  },
  {
   "cell_type": "code",
   "execution_count": 21,
   "metadata": {},
   "outputs": [],
   "source": [
    "number_name = {}\n",
    "\n",
    "for course_link in course_links:\n",
    "    course_numbers, course_names = get_course_names(course_link)\n",
    "\n",
    "    for i in range(len(course_numbers)):\n",
    "        number_name[course_numbers[i]] = course_names[i]"
   ]
  },
  {
   "cell_type": "code",
   "execution_count": 22,
   "metadata": {},
   "outputs": [],
   "source": [
    "# Store it to a json file\n",
    "with open(\"course_name_map.json\", 'w') as f:\n",
    "    json.dump(number_name, f)"
   ]
  },
  {
   "cell_type": "markdown",
   "metadata": {},
   "source": [
    "# Number description relationship"
   ]
  },
  {
   "cell_type": "code",
   "execution_count": 23,
   "metadata": {},
   "outputs": [],
   "source": [
    "# Connect course number to description\n",
    "def get_course_descriptions(url):\n",
    "    response = requests.get(url)\n",
    "    course_numbers, course_descriptions = [], []\n",
    "\n",
    "    if response.status_code == 200:\n",
    "        soup = BeautifulSoup(response.text, 'html.parser')\n",
    "        course_listings = soup.find_all('div', class_='courseblock')\n",
    "\n",
    "        for course in course_listings:\n",
    "            p_tags = course.find_all('p')\n",
    "            \n",
    "            course_info = p_tags[0].text\n",
    "            course_number = course_info.split('  ')[0].replace('\\xa0', ' ')\n",
    "            course_description = p_tags[1].text.split('\\n')[0].replace('\\xa0', ' ')\n",
    "            course_numbers.append(course_number)\n",
    "            course_descriptions.append(course_description)\n",
    "\n",
    "    else:\n",
    "        print(\"Failed to retrieve the page. Status code:\", response.status_code)\n",
    "    return course_numbers, course_descriptions"
   ]
  },
  {
   "cell_type": "code",
   "execution_count": 34,
   "metadata": {},
   "outputs": [],
   "source": [
    "number_description = {}\n",
    "\n",
    "for course_link in course_links:\n",
    "    course_numbers, course_descriptions = get_course_names(course_link)\n",
    "\n",
    "    for i in range(len(course_numbers)):\n",
    "        number_description[course_numbers[i]] = course_descriptions[i]"
   ]
  },
  {
   "cell_type": "code",
   "execution_count": 32,
   "metadata": {},
   "outputs": [],
   "source": [
    "# Store it to a json file\n",
    "with open(\"course_description_map.json\", 'w') as f:\n",
    "    json.dump(number_description, f)"
   ]
  },
  {
   "cell_type": "code",
   "execution_count": null,
   "metadata": {},
   "outputs": [],
   "source": []
  }
 ],
 "metadata": {
  "kernelspec": {
   "display_name": "cv",
   "language": "python",
   "name": "python3"
  },
  "language_info": {
   "codemirror_mode": {
    "name": "ipython",
    "version": 3
   },
   "file_extension": ".py",
   "mimetype": "text/x-python",
   "name": "python",
   "nbconvert_exporter": "python",
   "pygments_lexer": "ipython3",
   "version": "3.10.11"
  },
  "orig_nbformat": 4
 },
 "nbformat": 4,
 "nbformat_minor": 2
}
