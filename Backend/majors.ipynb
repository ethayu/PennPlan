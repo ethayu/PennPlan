{
 "cells": [
  {
   "cell_type": "code",
   "execution_count": 28,
   "metadata": {},
   "outputs": [],
   "source": [
    "import requests\n",
    "import json \n",
    "from bs4 import BeautifulSoup"
   ]
  },
  {
   "cell_type": "code",
   "execution_count": 29,
   "metadata": {},
   "outputs": [],
   "source": [
    "# # Get all the majors link\n",
    "# url = \"https://catalog.upenn.edu/programs/#filter=.filter_1&.filter_27\"\n",
    "\n",
    "# response = requests.get(url)\n",
    "# header = 'https://catalog.upenn.edu'\n",
    "# majors, majors_links = [], []\n",
    "\n",
    "# if response.status_code == 200:\n",
    "#     soup = BeautifulSoup(response.content, 'html.parser')\n",
    "#     all_bullet_points = soup.find_all('li', class_='item')\n",
    "\n",
    "#     for bullet_point in all_bullet_points:\n",
    "#         multiple_a = bullet_point.find_all('a')\n",
    "        \n",
    "#         for a in multiple_a:\n",
    "#             # Find all <span> elements with class 'title' within the current <a> element\n",
    "#             spans = a.find_all('span')\n",
    "#             major_name = spans[0].text\n",
    "#             major_level = spans[1].text\n",
    "            \n",
    "#             # Only Undergrads\n",
    "#             if major_level == 'Undergraduate' and major_name[-5:] != 'Minor' and major_name[-11:] != 'Certificate':\n",
    "#                 majors.append(major_name)\n",
    "#                 majors_links.append(header + a['href'])\n",
    "\n",
    "# else:\n",
    "#     print(\"Failed to retrieve the page. Status code:\", response.status_code)"
   ]
  },
  {
   "cell_type": "code",
   "execution_count": 30,
   "metadata": {},
   "outputs": [],
   "source": [
    "# # Get all the majors link\n",
    "# url = \"https://catalog.upenn.edu/programs/#filter=.filter_1&.filter_27\"\n",
    "\n",
    "# response = requests.get(url)\n",
    "# header = 'https://catalog.upenn.edu'\n",
    "# minors, minors_links = [], []\n",
    "\n",
    "# if response.status_code == 200:\n",
    "#     soup = BeautifulSoup(response.content, 'html.parser')\n",
    "#     all_bullet_points = soup.find_all('li', class_='item')\n",
    "\n",
    "#     for bullet_point in all_bullet_points:\n",
    "#         multiple_a = bullet_point.find_all('a')\n",
    "        \n",
    "#         for a in multiple_a:\n",
    "#             # Find all <span> elements with class 'title' within the current <a> element\n",
    "#             spans = a.find_all('span')\n",
    "#             minor_name = spans[0].text\n",
    "#             minor_level = spans[1].text\n",
    "            \n",
    "#             # Only Undergrads\n",
    "#             if minor_level == 'Undergraduate' and minor_name[-5:] == 'Minor' :\n",
    "#                 minors.append(minor_name)\n",
    "#                 minors_links.append(header + a['href'])\n",
    "\n",
    "# else:\n",
    "#     print(\"Failed to retrieve the page. Status code:\", response.status_code)"
   ]
  },
  {
   "cell_type": "code",
   "execution_count": null,
   "metadata": {},
   "outputs": [],
   "source": []
  },
  {
   "cell_type": "code",
   "execution_count": null,
   "metadata": {},
   "outputs": [],
   "source": []
  },
  {
   "cell_type": "markdown",
   "metadata": {},
   "source": [
    "# Only SEAS Majors"
   ]
  },
  {
   "cell_type": "code",
   "execution_count": 45,
   "metadata": {},
   "outputs": [],
   "source": [
    "url = \"https://catalog.upenn.edu/undergraduate/engineering-applied-science/majors/\"\n",
    "\n",
    "\n",
    "response = requests.get(url)\n",
    "headers = \"https://catalog.upenn.edu\"\n",
    "majors = []\n",
    "majors_links = []\n",
    "\n",
    "if response.status_code == 200:\n",
    "    soup = BeautifulSoup(response.content, 'html.parser')\n",
    "    div = soup.find_all('div', class_='sitemap')[0]\n",
    "    ul = div.find_all('ul')[0]\n",
    "    bullet_points = ul.find_all('li')\n",
    "\n",
    "    for bullet_point in bullet_points:\n",
    "        a_href = bullet_point.find_all('a')[0]\n",
    "        \n",
    "        majors.append(a_href.text)\n",
    "        majors_links.append(headers + a_href['href'])\n",
    "    # print(len(majors_bullet_points))\n",
    "else:\n",
    "    print(\"Failed to retrieve the page. Status code:\", response.status_code)"
   ]
  },
  {
   "cell_type": "code",
   "execution_count": 46,
   "metadata": {},
   "outputs": [
    {
     "data": {
      "text/plain": [
       "['https://catalog.upenn.edu/undergraduate/programs/bioengineering-bse/',\n",
       " 'https://catalog.upenn.edu/undergraduate/programs/biomedical-science-bas/',\n",
       " 'https://catalog.upenn.edu/undergraduate/programs/chemical-biomolecular-engineering-bse/',\n",
       " 'https://catalog.upenn.edu/undergraduate/programs/computer-engineering-bse/',\n",
       " 'https://catalog.upenn.edu/undergraduate/programs/computer-science-bas/',\n",
       " 'https://catalog.upenn.edu/undergraduate/programs/computer-science-bse/',\n",
       " 'https://catalog.upenn.edu/undergraduate/programs/digital-media-design-bse/',\n",
       " 'https://catalog.upenn.edu/undergraduate/programs/electrical-engineering-bse/',\n",
       " 'https://catalog.upenn.edu/undergraduate/programs/individualized-bas/',\n",
       " 'https://catalog.upenn.edu/undergraduate/programs/materials-science-engineering-bse/',\n",
       " 'https://catalog.upenn.edu/undergraduate/programs/mechanical-engineering-applied-mechanics-bse/',\n",
       " 'https://catalog.upenn.edu/undergraduate/programs/networked-social-systems-engineering-bse/',\n",
       " 'https://catalog.upenn.edu/undergraduate/programs/systems-science-engineering-bse/']"
      ]
     },
     "execution_count": 46,
     "metadata": {},
     "output_type": "execute_result"
    }
   ],
   "source": [
    "majors_links"
   ]
  },
  {
   "cell_type": "code",
   "execution_count": null,
   "metadata": {},
   "outputs": [],
   "source": []
  }
 ],
 "metadata": {
  "kernelspec": {
   "display_name": "cv",
   "language": "python",
   "name": "python3"
  },
  "language_info": {
   "codemirror_mode": {
    "name": "ipython",
    "version": 3
   },
   "file_extension": ".py",
   "mimetype": "text/x-python",
   "name": "python",
   "nbconvert_exporter": "python",
   "pygments_lexer": "ipython3",
   "version": "3.10.11"
  },
  "orig_nbformat": 4
 },
 "nbformat": 4,
 "nbformat_minor": 2
}
