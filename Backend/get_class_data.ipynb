{
 "cells": [
  {
   "cell_type": "code",
   "execution_count": 1,
   "metadata": {},
   "outputs": [],
   "source": [
    "import requests"
   ]
  },
  {
   "cell_type": "markdown",
   "metadata": {},
   "source": [
    "1. Get class data"
   ]
  },
  {
   "cell_type": "code",
   "execution_count": 19,
   "metadata": {},
   "outputs": [
    {
     "name": "stdout",
     "output_type": "stream",
     "text": [
      "{\"code\":\"CIS-1210\",\"name\":\"Prog Lang and Tech II\",\"description\":\"This is a course about Algorithms and Data Structures using the JAVA programming language. We introduce the basic concepts about complexity of an algorithm and methods on how to compute the running time of algorithms. Then, we describe data structures like stacks, queues, maps, trees, and graphs, and we construct efficient algorithms based on these representations. The course builds upon existing implementations of basic data structures in JAVA and extends them for the structures like trees, studying the performance of operations on such structures, and theiefficiency when used in real-world applications. A large project introducing students to the challenges of software engineering concludes the course.\",\"aliases\":[],\"historical_codes\":[{\"full_code\":\"CIS-121\",\"branched_from\":false,\"semester\":\"2022A\"}],\"latest_semester\":\"2023C\",\"num_sections\":39,\"num_sections_recent\":1,\"instructors\":{\"130\":{\"id\":130,\"average_reviews\":{\"rAmountLearned\":2.994,\"rReadingsValue\":1.8599999999999999,\"rCourseQuality\":2.418,\"rRecommendNonmajor\":1.4939999999999998,\"rDifficulty\":3.2600000000000002,\"rStimulateInterest\":2.2119999999999997,\"rRecommendMajor\":3.496,\"rTaQuality\":2.29,\"rWorkRequired\":3.4659999999999997,\"rFinalEnrollment\":77.4,\"rCommunicationAbility\":2.68,\"rInstructorQuality\":2.712,\"rInstructorAccess\":2.728},\"recent_reviews\":{\"rAmountLearned\":3.24,\"rReadingsValue\":2.07,\"rCourseQuality\":2.25,\"rRecommendNonmajor\":1.72,\"rDifficulty\":3.46,\"rStimulateInterest\":2.02,\"rRecommendMajor\":3.59,\"rTaQuality\":2.59,\"rWorkRequired\":3.77,\"rFinalEnrollment\":124.0,\"rCommunicationAbility\":2.43,\"rInstructorQuality\":2.44,\"rInstructorAccess\":2.54},\"latest_semester\":\"2013C\",\"num_semesters\":5,\"name\":\"Val Breazu. Tannen\"},\"11212\":{\"id\":11212,\"average_reviews\":{\"rAmountLearned\":3.611428571428571,\"rReadingsValue\":2.9414285714285717,\"rCourseQuality\":3.272142857142857,\"rPercentOpen\":0.657362997903802,\"rRecommendNonmajor\":1.9957142857142856,\"rDifficulty\":3.7657142857142856,\"rNumOpenings\":1.0,\"rStimulateInterest\":3.432142857142857,\"rRecommendMajor\":3.662142857142857,\"rTaQuality\":2.9828571428571427,\"rWorkRequired\":3.769285714285714,\"rFinalEnrollment\":118.78571428571429,\"rFilledInAdvReg\":0.25,\"rCommunicationAbility\":3.5135714285714283,\"rInstructorQuality\":3.5428571428571423,\"rInstructorAccess\":3.446428571428572},\"recent_reviews\":{\"rAmountLearned\":3.54,\"rReadingsValue\":3.025,\"rCourseQuality\":3.1799999999999997,\"rPercentOpen\":0.500049343840938,\"rRecommendNonmajor\":2.0549999999999997,\"rDifficulty\":3.81,\"rNumOpenings\":1.5,\"rStimulateInterest\":3.3899999999999997,\"rRecommendMajor\":3.58,\"rTaQuality\":3.075,\"rWorkRequired\":3.745,\"rFinalEnrollment\":103.5,\"rFilledInAdvReg\":0.5,\"rCommunicationAbility\":3.44,\"rInstructorQuality\":3.46,\"rInstructorAccess\":3.245},\"latest_semester\":\"2023A\",\"num_semesters\":10,\"name\":\"Rajiv C. Gandhi\"},\"47\":{\"id\":47,\"average_reviews\":{\"rAmountLearned\":2.9866666666666664,\"rReadingsValue\":2.152222222222222,\"rCourseQuality\":2.3444444444444446,\"rRecommendNonmajor\":1.62,\"rDifficulty\":3.095555555555555,\"rStimulateInterest\":1.7922222222222222,\"rRecommendMajor\":3.4000000000000004,\"rTaQuality\":2.8575,\"rWorkRequired\":3.2622222222222224,\"rFinalEnrollment\":115.55555555555556,\"rCommunicationAbility\":1.7777777777777777,\"rInstructorQuality\":2.0133333333333336,\"rInstructorAccess\":2.5933333333333337},\"recent_reviews\":{\"rAmountLearned\":3.25,\"rReadingsValue\":2.77,\"rCourseQuality\":2.53,\"rRecommendNonmajor\":1.9,\"rDifficulty\":3.65,\"rStimulateInterest\":1.85,\"rRecommendMajor\":3.4,\"rTaQuality\":3.06,\"rWorkRequired\":3.67,\"rFinalEnrollment\":252.0,\"rCommunicationAbility\":1.89,\"rInstructorQuality\":2.04,\"rInstructorAccess\":2.94},\"latest_semester\":\"2020C\",\"num_semesters\":9,\"name\":\"Konstantinos Daniilidis\"},\"1771\":{\"id\":1771,\"average_reviews\":{\"rAmountLearned\":3.063333333333334,\"rReadingsValue\":2.0733333333333333,\"rCourseQuality\":2.25,\"rRecommendNonmajor\":1.5966666666666667,\"rDifficulty\":3.516666666666666,\"rStimulateInterest\":1.7699999999999998,\"rRecommendMajor\":3.3433333333333337,\"rTaQuality\":2.31,\"rWorkRequired\":3.6933333333333334,\"rFinalEnrollment\":203.0,\"rCommunicationAbility\":2.0433333333333334,\"rInstructorQuality\":2.026666666666667,\"rInstructorAccess\":2.376666666666667},\"recent_reviews\":{\"rAmountLearned\":2.9,\"rReadingsValue\":2.05,\"rCourseQuality\":2.07,\"rRecommendNonmajor\":1.58,\"rDifficulty\":3.28,\"rStimulateInterest\":1.41,\"rRecommendMajor\":3.28,\"rTaQuality\":2.39,\"rWorkRequired\":3.48,\"rFinalEnrollment\":216.0,\"rCommunicationAbility\":1.69,\"rInstructorQuality\":1.67,\"rInstructorAccess\":2.1},\"latest_semester\":\"2017C\",\"num_semesters\":3,\"name\":\"Christopher Callison-Burch\"},\"8322\":{\"id\":8322,\"average_reviews\":{\"rAmountLearned\":2.63,\"rReadingsValue\":1.59,\"rCourseQuality\":2.04,\"rRecommendNonmajor\":1.3,\"rDifficulty\":3.05,\"rStimulateInterest\":1.3,\"rRecommendMajor\":3.33,\"rWorkRequired\":3.18,\"rFinalEnrollment\":56.0,\"rCommunicationAbility\":1.88,\"rInstructorQuality\":1.96,\"rInstructorAccess\":2.49},\"recent_reviews\":{\"rAmountLearned\":2.63,\"rReadingsValue\":1.59,\"rCourseQuality\":2.04,\"rRecommendNonmajor\":1.3,\"rDifficulty\":3.05,\"rStimulateInterest\":1.3,\"rRecommendMajor\":3.33,\"rWorkRequired\":3.18,\"rFinalEnrollment\":56.0,\"rCommunicationAbility\":1.88,\"rInstructorQuality\":1.96,\"rInstructorAccess\":2.49},\"latest_semester\":\"2011A\",\"num_semesters\":1,\"name\":\"Benjamin Taskar\"},\"11214\":{\"id\":11214,\"average_reviews\":{\"rAmountLearned\":3.22,\"rReadingsValue\":2.42,\"rCourseQuality\":2.39,\"rRecommendNonmajor\":1.84,\"rDifficulty\":3.42,\"rStimulateInterest\":3.07,\"rRecommendMajor\":3.46,\"rTaQuality\":3.05,\"rWorkRequired\":3.57,\"rFinalEnrollment\":227.0,\"rCommunicationAbility\":2.95,\"rInstructorQuality\":2.99,\"rInstructorAccess\":2.96},\"recent_reviews\":{\"rAmountLearned\":3.22,\"rReadingsValue\":2.42,\"rCourseQuality\":2.39,\"rRecommendNonmajor\":1.84,\"rDifficulty\":3.42,\"rStimulateInterest\":3.07,\"rRecommendMajor\":3.46,\"rTaQuality\":3.05,\"rWorkRequired\":3.57,\"rFinalEnrollment\":227.0,\"rCommunicationAbility\":2.95,\"rInstructorQuality\":2.99,\"rInstructorAccess\":2.96},\"latest_semester\":\"2019C\",\"num_semesters\":1,\"name\":\"Christian Daniel. Murphy\"},\"8345\":{\"id\":8345,\"average_reviews\":{\"rAmountLearned\":2.66,\"rReadingsValue\":1.86,\"rCourseQuality\":1.76,\"rRecommendNonmajor\":1.47,\"rDifficulty\":2.66,\"rStimulateInterest\":1.42,\"rRecommendMajor\":3.22,\"rTaQuality\":2.04,\"rWorkRequired\":2.84,\"rFinalEnrollment\":139.0,\"rCommunicationAbility\":2.1,\"rInstructorQuality\":1.88,\"rInstructorAccess\":2.54},\"recent_reviews\":{\"rAmountLearned\":2.66,\"rReadingsValue\":1.86,\"rCourseQuality\":1.76,\"rRecommendNonmajor\":1.47,\"rDifficulty\":2.66,\"rStimulateInterest\":1.42,\"rRecommendMajor\":3.22,\"rTaQuality\":2.04,\"rWorkRequired\":2.84,\"rFinalEnrollment\":139.0,\"rCommunicationAbility\":2.1,\"rInstructorQuality\":1.88,\"rInstructorAccess\":2.54},\"latest_semester\":\"2012A\",\"num_semesters\":1,\"name\":\"Julia D. Stoyanovich\"},\"1\":{\"id\":1,\"average_reviews\":{\"rAmountLearned\":3.5,\"rReadingsValue\":2.96,\"rCourseQuality\":2.71,\"rRecommendNonmajor\":1.46,\"rDifficulty\":3.8,\"rStimulateInterest\":2.93,\"rRecommendMajor\":3.48,\"rTaQuality\":2.87,\"rWorkRequired\":3.85,\"rFinalEnrollment\":218.0,\"rCommunicationAbility\":2.97,\"rInstructorQuality\":3.07,\"rInstructorAccess\":3.25},\"recent_reviews\":{\"rAmountLearned\":3.5,\"rReadingsValue\":2.96,\"rCourseQuality\":2.71,\"rRecommendNonmajor\":1.46,\"rDifficulty\":3.8,\"rStimulateInterest\":2.93,\"rRecommendMajor\":3.48,\"rTaQuality\":2.87,\"rWorkRequired\":3.85,\"rFinalEnrollment\":218.0,\"rCommunicationAbility\":2.97,\"rInstructorQuality\":3.07,\"rInstructorAccess\":3.25},\"latest_semester\":\"2023C\",\"num_semesters\":2,\"name\":\"Arvind Bhusnurmath\"},\"8350\":{\"id\":8350,\"average_reviews\":{\"rAmountLearned\":3.28,\"rReadingsValue\":1.99,\"rCourseQuality\":2.45,\"rRecommendNonmajor\":1.53,\"rDifficulty\":3.6,\"rStimulateInterest\":1.77,\"rRecommendMajor\":3.39,\"rTaQuality\":2.88,\"rWorkRequired\":3.78,\"rFinalEnrollment\":222.0,\"rCommunicationAbility\":2.15,\"rInstructorQuality\":2.07,\"rInstructorAccess\":1.86},\"recent_reviews\":{\"rAmountLearned\":3.28,\"rReadingsValue\":1.99,\"rCourseQuality\":2.45,\"rRecommendNonmajor\":1.53,\"rDifficulty\":3.6,\"rStimulateInterest\":1.77,\"rRecommendMajor\":3.39,\"rTaQuality\":2.88,\"rWorkRequired\":3.78,\"rFinalEnrollment\":222.0,\"rCommunicationAbility\":2.15,\"rInstructorQuality\":2.07,\"rInstructorAccess\":1.86},\"latest_semester\":\"2018C\",\"num_semesters\":1,\"name\":\"Eric R. Eaton\"},\"8358\":{\"id\":8358,\"average_reviews\":{},\"recent_reviews\":{},\"latest_semester\":\"2023C\",\"num_semesters\":1,\"name\":\"Eric Noel Fouh Mbindi\"}},\"registration_metrics\":true,\"average_reviews\":{\"rInstructorQuality\":2.7591666666666668,\"rCourseQuality\":2.6972222222222224,\"rCommunicationAbility\":2.6880555555555556,\"rStimulateInterest\":2.528888888888889,\"rInstructorAccess\":2.9294444444444445,\"rDifficulty\":3.4433333333333334,\"rWorkRequired\":3.548888888888889,\"rTaQuality\":2.7977777777777777,\"rReadingsValue\":2.413611111111111,\"rAmountLearned\":3.2469444444444444,\"rRecommendMajor\":3.507222222222222,\"rRecommendNonmajor\":1.7327777777777778,\"rFinalEnrollment\":128.15366430260048,\"rPercentOpen\":0.662233976391925,\"rNumOpenings\":3.4285714285714284,\"rFilledInAdvReg\":0.3333333333333333,\"rSemesterCalc\":\"2023C\",\"rSemesterCount\":33},\"recent_reviews\":{\"rInstructorQuality\":3.46,\"rCourseQuality\":3.18,\"rCommunicationAbility\":3.44,\"rStimulateInterest\":3.39,\"rInstructorAccess\":3.245,\"rDifficulty\":3.81,\"rWorkRequired\":3.745,\"rTaQuality\":3.075,\"rReadingsValue\":3.025,\"rAmountLearned\":3.54,\"rRecommendMajor\":3.58,\"rRecommendNonmajor\":2.055,\"rFinalEnrollment\":103.5,\"rPercentOpen\":0.500049343840938,\"rNumOpenings\":1.5,\"rFilledInAdvReg\":0.5,\"rSemesterCalc\":\"2022A\",\"rSemesterCount\":1},\"num_semesters\":33}\n"
     ]
    }
   ],
   "source": [
    "import requests\n",
    "\n",
    "cookies = {\n",
    "    'csrftoken': '7uoFMfLL1lLpZ9raoHvGJ1BrzWE8udxhLANeRSfEMa4XasPTt5Y3MNBd3vyX9nXH',\n",
    "    'sessionid': '23ivwpc2mtrobpkjy4tdzjsr49wq5mqw',\n",
    "}\n",
    "\n",
    "headers = {\n",
    "    'authority': 'penncoursereview.com',\n",
    "    'accept': 'text/html,application/xhtml+xml,application/xml;q=0.9,image/avif,image/webp,image/apng,*/*;q=0.8',\n",
    "    'accept-language': 'en-US,en;q=0.9',\n",
    "    # 'cookie': 'csrftoken=7uoFMfLL1lLpZ9raoHvGJ1BrzWE8udxhLANeRSfEMa4XasPTt5Y3MNBd3vyX9nXH; sessionid=23ivwpc2mtrobpkjy4tdzjsr49wq5mqw',\n",
    "    'sec-ch-ua': '\"Chromium\";v=\"116\", \"Not)A;Brand\";v=\"24\", \"Brave\";v=\"116\"',\n",
    "    'sec-ch-ua-mobile': '?0',\n",
    "    'sec-ch-ua-platform': '\"macOS\"',\n",
    "    'sec-fetch-dest': 'document',\n",
    "    'sec-fetch-mode': 'navigate',\n",
    "    'sec-fetch-site': 'cross-site',\n",
    "    'sec-fetch-user': '?1',\n",
    "    'sec-gpc': '1',\n",
    "    'upgrade-insecure-requests': '1',\n",
    "    'user-agent': 'Mozilla/5.0 (Macintosh; Intel Mac OS X 10_15_7) AppleWebKit/537.36 (KHTML, like Gecko) Chrome/116.0.0.0 Safari/537.36',\n",
    "}\n",
    "\n",
    "response = requests.get('https://penncoursereview.com/api/review/course/CIS-1210?format=json&token=platform', cookies=cookies, headers=headers)\n",
    "print(response.text)"
   ]
  },
  {
   "cell_type": "code",
   "execution_count": null,
   "metadata": {},
   "outputs": [],
   "source": []
  },
  {
   "cell_type": "code",
   "execution_count": null,
   "metadata": {},
   "outputs": [],
   "source": []
  }
 ],
 "metadata": {
  "kernelspec": {
   "display_name": "cv",
   "language": "python",
   "name": "python3"
  },
  "language_info": {
   "codemirror_mode": {
    "name": "ipython",
    "version": 3
   },
   "file_extension": ".py",
   "mimetype": "text/x-python",
   "name": "python",
   "nbconvert_exporter": "python",
   "pygments_lexer": "ipython3",
   "version": "3.10.11"
  },
  "orig_nbformat": 4
 },
 "nbformat": 4,
 "nbformat_minor": 2
}
