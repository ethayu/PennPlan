{
 "cells": [
  {
   "cell_type": "code",
   "execution_count": 127,
   "metadata": {},
   "outputs": [],
   "source": [
    "import requests\n",
    "import json \n",
    "from bs4 import BeautifulSoup\n",
    "from populate import *"
   ]
  },
  {
   "cell_type": "code",
   "execution_count": 29,
   "metadata": {},
   "outputs": [],
   "source": [
    "# # Get all the majors link\n",
    "# url = \"https://catalog.upenn.edu/programs/#filter=.filter_1&.filter_27\"\n",
    "\n",
    "# response = requests.get(url)\n",
    "# header = 'https://catalog.upenn.edu'\n",
    "# majors, majors_links = [], []\n",
    "\n",
    "# if response.status_code == 200:\n",
    "#     soup = BeautifulSoup(response.content, 'html.parser')\n",
    "#     all_bullet_points = soup.find_all('li', class_='item')\n",
    "\n",
    "#     for bullet_point in all_bullet_points:\n",
    "#         multiple_a = bullet_point.find_all('a')\n",
    "        \n",
    "#         for a in multiple_a:\n",
    "#             # Find all <span> elements with class 'title' within the current <a> element\n",
    "#             spans = a.find_all('span')\n",
    "#             major_name = spans[0].text\n",
    "#             major_level = spans[1].text\n",
    "            \n",
    "#             # Only Undergrads\n",
    "#             if major_level == 'Undergraduate' and major_name[-5:] != 'Minor' and major_name[-11:] != 'Certificate':\n",
    "#                 majors.append(major_name)\n",
    "#                 majors_links.append(header + a['href'])\n",
    "\n",
    "# else:\n",
    "#     print(\"Failed to retrieve the page. Status code:\", response.status_code)"
   ]
  },
  {
   "cell_type": "code",
   "execution_count": 30,
   "metadata": {},
   "outputs": [],
   "source": [
    "# # Get all the majors link\n",
    "# url = \"https://catalog.upenn.edu/programs/#filter=.filter_1&.filter_27\"\n",
    "\n",
    "# response = requests.get(url)\n",
    "# header = 'https://catalog.upenn.edu'\n",
    "# minors, minors_links = [], []\n",
    "\n",
    "# if response.status_code == 200:\n",
    "#     soup = BeautifulSoup(response.content, 'html.parser')\n",
    "#     all_bullet_points = soup.find_all('li', class_='item')\n",
    "\n",
    "#     for bullet_point in all_bullet_points:\n",
    "#         multiple_a = bullet_point.find_all('a')\n",
    "        \n",
    "#         for a in multiple_a:\n",
    "#             # Find all <span> elements with class 'title' within the current <a> element\n",
    "#             spans = a.find_all('span')\n",
    "#             minor_name = spans[0].text\n",
    "#             minor_level = spans[1].text\n",
    "            \n",
    "#             # Only Undergrads\n",
    "#             if minor_level == 'Undergraduate' and minor_name[-5:] == 'Minor' :\n",
    "#                 minors.append(minor_name)\n",
    "#                 minors_links.append(header + a['href'])\n",
    "\n",
    "# else:\n",
    "#     print(\"Failed to retrieve the page. Status code:\", response.status_code)"
   ]
  },
  {
   "cell_type": "markdown",
   "metadata": {},
   "source": [
    "# Only SEAS Majors"
   ]
  },
  {
   "cell_type": "code",
   "execution_count": 147,
   "metadata": {},
   "outputs": [],
   "source": [
    "url = \"https://catalog.upenn.edu/undergraduate/engineering-applied-science/minors/\"\n",
    "\n",
    "\n",
    "response = requests.get(url)\n",
    "headers = \"https://catalog.upenn.edu\"\n",
    "majors = []\n",
    "majors_links = []\n",
    "\n",
    "if response.status_code == 200:\n",
    "    soup = BeautifulSoup(response.content, 'html.parser')\n",
    "    div = soup.find_all('div', class_='sitemap')[0]\n",
    "    ul = div.find_all('ul')[0]\n",
    "    bullet_points = ul.find_all('li')\n",
    "\n",
    "    for bullet_point in bullet_points:\n",
    "        a_href = bullet_point.find_all('a')[0]\n",
    "        \n",
    "        majors.append(a_href.text)\n",
    "        majors_links.append(headers + a_href['href'])\n",
    "    # print(len(majors_bullet_points))\n",
    "else:\n",
    "    print(\"Failed to retrieve the page. Status code:\", response.status_code)"
   ]
  },
  {
   "cell_type": "code",
   "execution_count": 149,
   "metadata": {},
   "outputs": [
    {
     "data": {
      "text/plain": [
       "['https://catalog.upenn.edu/undergraduate/programs/engineering-entrepreneurship-minor/',\n",
       " 'https://catalog.upenn.edu/undergraduate/programs/meam-minor/',\n",
       " 'https://catalog.upenn.edu/undergraduate/programs/energy-sustainability-minor/',\n",
       " 'https://catalog.upenn.edu/undergraduate/programs/computer-science-minor/',\n",
       " 'https://catalog.upenn.edu/undergraduate/programs/digital-media-design-minor/',\n",
       " 'https://catalog.upenn.edu/undergraduate/programs/electrical-engineering-minor/',\n",
       " 'https://catalog.upenn.edu/undergraduate/programs/chemical-biomolecular-engineering-minor/',\n",
       " 'https://catalog.upenn.edu/undergraduate/programs/data-science-minor/',\n",
       " 'https://catalog.upenn.edu/undergraduate/programs/systems-science-engineering-minor/',\n",
       " 'https://catalog.upenn.edu/undergraduate/programs/materials-science-engineering-minor/']"
      ]
     },
     "execution_count": 149,
     "metadata": {},
     "output_type": "execute_result"
    }
   ],
   "source": [
    "majors_links = list(set(majors_links))\n",
    "majors_links"
   ]
  },
  {
   "cell_type": "code",
   "execution_count": 152,
   "metadata": {},
   "outputs": [
    {
     "name": "stdout",
     "output_type": "stream",
     "text": [
      "Pinged your deployment. You successfully connected to MongoDB!\n",
      "Engineering Entrepreneurship, Minor\n",
      "Energy & Sustainability, Minor\n",
      "Computer Science, Minor\n",
      "Digital Media Design, Minor\n",
      "Electrical Engineering, Minor\n",
      "Systems Science and Engineering, Minor\n",
      "Materials Science and Engineering, Minor\n"
     ]
    }
   ],
   "source": [
    "db = setup()\n",
    "for link in majors_links:\n",
    "    reqs = []\n",
    "    electives = {}\n",
    "    response = requests.get(link)\n",
    "    soup = BeautifulSoup(response.text, 'html.parser')\n",
    "    title = soup.find('h1', class_='page-title').text \n",
    "    even = soup.find_all('tr', class_='even')\n",
    "    odd = soup.find_all('tr', class_='odd')\n",
    "    div = even + odd\n",
    "    for d in div:\n",
    "        if len(d['class']) == 1 and len(d.contents[0]) == 1 and d.contents[0].contents[0]['class'][0] == 'bubblelink':\n",
    "            reqs.append(d.contents[0].text.replace('\\xa0', ' '))\n",
    "\n",
    "    courselistcomment = soup.find_all('span', class_='courselistcomment')\n",
    "    for e in courselistcomment:\n",
    "        if len(e['class']) == 1 and e.text[-1] != ':':\n",
    "            if e.parent.parent.text[-1].isdigit():\n",
    "                if electives.get(e.text) == None:\n",
    "                    num = int(''.join(filter(str.isdigit, e.parent.parent.text.split(\" \")[-1])))\n",
    "                    electives[e.text.replace('\\xa0', ' ')] = num\n",
    "                else:\n",
    "                    electives[e.text.replace('\\xa0', ' ')] += num\n",
    "    if len(reqs) != 0:\n",
    "        print(title)\n",
    "        print(reqs)\n",
    "        print(electives)\n",
    "        #addMajor(Field(title, reqs, electives), db)"
   ]
  },
  {
   "cell_type": "markdown",
   "metadata": {},
   "source": []
  }
 ],
 "metadata": {
  "kernelspec": {
   "display_name": "cv",
   "language": "python",
   "name": "python3"
  },
  "language_info": {
   "codemirror_mode": {
    "name": "ipython",
    "version": 3
   },
   "file_extension": ".py",
   "mimetype": "text/x-python",
   "name": "python",
   "nbconvert_exporter": "python",
   "pygments_lexer": "ipython3",
   "version": "3.10.11"
  },
  "orig_nbformat": 4
 },
 "nbformat": 4,
 "nbformat_minor": 2
}
